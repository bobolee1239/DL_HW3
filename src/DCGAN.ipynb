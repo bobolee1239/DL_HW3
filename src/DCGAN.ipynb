{
 "cells": [
  {
   "cell_type": "code",
   "execution_count": 1,
   "metadata": {},
   "outputs": [],
   "source": [
    "#!/usr/bin/env python3"
   ]
  },
  {
   "cell_type": "code",
   "execution_count": null,
   "metadata": {},
   "outputs": [],
   "source": [
    "%matplotlib inline\n",
    "import numpy as np \n",
    "import time \n",
    "from datetime import timedelta\n",
    "import tensorflow as tf\n",
    "from readImages import *\n",
    "from build_tensorflow_graph import *\n",
    "import matplotlib.pyplot as plt"
   ]
  },
  {
   "cell_type": "code",
   "execution_count": null,
   "metadata": {},
   "outputs": [],
   "source": [
    "#\n",
    "## ---------- DCGAN Architecture ----------\n",
    "#\n",
    "\n",
    "# Convolution Layer 1\n",
    "numFilters1 = 16\n",
    "cnnArchitecture1 = CNN_Architecture(numFilters = numFilters1, \n",
    "                                    filterSize = (3, 3), \n",
    "                                    strides = 1, \n",
    "                                    toPadding = True, \n",
    "                                    useReLU = True, \n",
    "                                    numInputChannels = 3, \n",
    "                                    maxPoolingSize=None)\n",
    "dcnnArchitecture1 = cnnArchitecture1\n",
    "dcnnArchitecture1.useReLU = False\n",
    "# Convolution Layer 2\n",
    "numFilters2 = 32\n",
    "cnnArchitecture2 = CNN_Architecture(numFilters = numFilters2, \n",
    "                                    filterSize = (3, 3), \n",
    "                                    strides = 1, \n",
    "                                    toPadding = True, \n",
    "                                    useReLU = True, \n",
    "                                    numInputChannels = numFilters1, \n",
    "                                    maxPoolingSize=None)\n",
    "dcnnArchitecture2 = cnnArchitecture2\n",
    "# Convolution Layer 3\n",
    "numFilters3 = 64\n",
    "cnnArchitecture3 = CNN_Architecture(numFilters = numFilters3,\n",
    "                                    filterSize = (3, 3), \n",
    "                                    strides = 1, \n",
    "                                    toPadding = True, \n",
    "                                    useReLU = True, \n",
    "                                    numInputChannels = numFilters2, \n",
    "                                    maxPoolingSize=None)\n",
    "dcnnArchitecture3 = cnnArchitecture3\n",
    "# Fully Connected 1\n",
    "fc1_size = 1024 \n",
    "# Fully Connected 2\n",
    "fc2_size = 512\n",
    "# Lattern Code \n",
    "z_dim = 256"
   ]
  }
 ],
 "metadata": {
  "kernelspec": {
   "display_name": "Python 3",
   "language": "python",
   "name": "python3"
  },
  "language_info": {
   "codemirror_mode": {
    "name": "ipython",
    "version": 3
   },
   "file_extension": ".py",
   "mimetype": "text/x-python",
   "name": "python",
   "nbconvert_exporter": "python",
   "pygments_lexer": "ipython3",
   "version": "3.5.2"
  }
 },
 "nbformat": 4,
 "nbformat_minor": 2
}
