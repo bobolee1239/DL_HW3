{
 "cells": [
  {
   "cell_type": "code",
   "execution_count": 1,
   "metadata": {
    "collapsed": true
   },
   "outputs": [],
   "source": [
    "import cv2\n",
    "from readImages import *\n",
    "import math\n",
    "import numpy as np \n",
    "from glob import glob\n",
    "import os"
   ]
  },
  {
   "cell_type": "code",
   "execution_count": 2,
   "metadata": {
    "collapsed": true
   },
   "outputs": [],
   "source": [
    "IN_FILE_DIR = '../faces/'\n",
    "OUT_FILE_DIR = '../data/'"
   ]
  },
  {
   "cell_type": "code",
   "execution_count": 3,
   "metadata": {
    "collapsed": true
   },
   "outputs": [],
   "source": [
    "def rotatedRectWithMaxArea(w, h, angle):\n",
    "    \"\"\"\n",
    "    Given a rectangle of size wxh that has been rotated by 'angle' (in\n",
    "    degree), computes the width and height of the largest possible\n",
    "    axis-aligned rectangle (maximal area) within the rotated rectangle.\n",
    "    \"\"\"\n",
    "    if w <= 0 or h <= 0:\n",
    "        return 0,0\n",
    "    # convert to radian\n",
    "    angle = angle / 180.0 * math.pi\n",
    "\n",
    "    width_is_longer = w >= h\n",
    "    side_long, side_short = (w,h) if width_is_longer else (h,w)\n",
    "\n",
    "    # since the solutions for angle, -angle and 180-angle are all the same,\n",
    "    # if suffices to look at the first quadrant and the absolute values of sin,cos:\n",
    "    sin_a, cos_a = abs(math.sin(angle)), abs(math.cos(angle))\n",
    "    if side_short <= 2.*sin_a*cos_a*side_long or abs(sin_a-cos_a) < 1e-10:\n",
    "        # half constrained case: two crop corners touch the longer side,\n",
    "        #   the other two corners are on the mid-line parallel to the longer line\n",
    "        x = 0.5*side_short\n",
    "        wr,hr = (x/sin_a,x/cos_a) if width_is_longer else (x/cos_a,x/sin_a)\n",
    "    else:\n",
    "        # fully constrained case: crop touches all 4 sides\n",
    "        cos_2a = cos_a*cos_a - sin_a*sin_a\n",
    "        wr,hr = (w*cos_a - h*sin_a)/cos_2a, (h*cos_a - w*sin_a)/cos_2a\n",
    "\n",
    "    return wr,hr"
   ]
  },
  {
   "cell_type": "code",
   "execution_count": 4,
   "metadata": {
    "collapsed": true
   },
   "outputs": [],
   "source": [
    "def rotate(img, minAngle = 1, maxAngle = 50, toshow=False):\n",
    "    angle = np.random.uniform(minAngle, maxAngle) # Unit: degree\n",
    "    height, width = img.shape[:2]\n",
    "    maxHeight, maxWidth = rotatedRectWithMaxArea(width, height, angle)\n",
    "    \n",
    "    # Rotate Image\n",
    "    center = ( height // 2, width // 2)\n",
    "    M = cv2.getRotationMatrix2D(center, angle, 1.0)\n",
    "    rotated = cv2.warpAffine(img, M, (width, height))\n",
    "    \n",
    "    h_min = center[0] - int(maxHeight * 0.5)\n",
    "    h_max = center[0] + int(maxHeight * 0.5)\n",
    "    w_min = center[1] - int(maxWidth * 0.5)\n",
    "    w_max = center[1] + int(maxWidth * 0.5)\n",
    "    \n",
    "    rotated = rotated[h_min : h_max + 1, w_min : w_max + 1]\n",
    "    rotated = cv2.resize(rotated, img.shape[:2], interpolation=cv2.INTER_CUBIC)\n",
    "    \n",
    "    if toshow:\n",
    "        cv2.imshow('rotated {}'.format(angle), rotated)\n",
    "        \n",
    "    return rotated"
   ]
  },
  {
   "cell_type": "code",
   "execution_count": 5,
   "metadata": {
    "collapsed": true
   },
   "outputs": [],
   "source": [
    "def flip(img, toshow=False):\n",
    "    horizontal_img = img.copy()\n",
    "    vertical_img = img.copy()\n",
    "    both_img = img.copy()\n",
    "    \n",
    "    horizontal_img = cv2.flip(img, 0)\n",
    "    vertical_img = cv2.flip(img, 1)\n",
    "    both_img = cv2.flip(img, -1)\n",
    "    \n",
    "    if toshow:\n",
    "        cv2.imshow(\"horizontal\", horizontal_img)\n",
    "        cv2.imshow(\"vertical\", vertical_img)\n",
    "        cv2.imshow(\"both flip\", both_img)\n",
    "        \n",
    "    return (horizontal_img, vertical_img, both_img)"
   ]
  },
  {
   "cell_type": "code",
   "execution_count": 6,
   "metadata": {
    "collapsed": true
   },
   "outputs": [],
   "source": [
    "def augmentation(img):\n",
    "    return [img, rotate(img)] + list(flip(img))"
   ]
  },
  {
   "cell_type": "code",
   "execution_count": 7,
   "metadata": {
    "collapsed": false
   },
   "outputs": [
    {
     "name": "stdout",
     "output_type": "stream",
     "text": [
      "  * Starting Data Augmentation ...\n"
     ]
    },
    {
     "ename": "KeyboardInterrupt",
     "evalue": "",
     "output_type": "error",
     "traceback": [
      "\u001b[0;31m---------------------------------------------------------------------------\u001b[0m",
      "\u001b[0;31mKeyboardInterrupt\u001b[0m                         Traceback (most recent call last)",
      "\u001b[0;32m<ipython-input-7-c6d4e86ed6cd>\u001b[0m in \u001b[0;36m<module>\u001b[0;34m()\u001b[0m\n\u001b[1;32m      9\u001b[0m         \u001b[0mfilename\u001b[0m \u001b[1;33m=\u001b[0m \u001b[0mfilename\u001b[0m\u001b[1;33m.\u001b[0m\u001b[0msplit\u001b[0m\u001b[1;33m(\u001b[0m\u001b[1;34m'.'\u001b[0m\u001b[1;33m)\u001b[0m\u001b[1;33m[\u001b[0m\u001b[1;36m0\u001b[0m\u001b[1;33m]\u001b[0m\u001b[1;33m\u001b[0m\u001b[0m\n\u001b[1;32m     10\u001b[0m         \u001b[1;32mfor\u001b[0m \u001b[0mi\u001b[0m\u001b[1;33m,\u001b[0m \u001b[0mimg\u001b[0m \u001b[1;32min\u001b[0m \u001b[0menumerate\u001b[0m\u001b[1;33m(\u001b[0m\u001b[0mimgs\u001b[0m\u001b[1;33m)\u001b[0m\u001b[1;33m:\u001b[0m\u001b[1;33m\u001b[0m\u001b[0m\n\u001b[0;32m---> 11\u001b[0;31m             \u001b[0mcv2\u001b[0m\u001b[1;33m.\u001b[0m\u001b[0mimwrite\u001b[0m\u001b[1;33m(\u001b[0m\u001b[0mos\u001b[0m\u001b[1;33m.\u001b[0m\u001b[0mpath\u001b[0m\u001b[1;33m.\u001b[0m\u001b[0mjoin\u001b[0m\u001b[1;33m(\u001b[0m\u001b[0mOUT_FILE_DIR\u001b[0m\u001b[1;33m,\u001b[0m \u001b[0mfilename\u001b[0m\u001b[1;33m,\u001b[0m \u001b[1;34m'_{}.jpg'\u001b[0m\u001b[1;33m.\u001b[0m\u001b[0mformat\u001b[0m\u001b[1;33m(\u001b[0m\u001b[0mi\u001b[0m\u001b[1;33m)\u001b[0m\u001b[1;33m)\u001b[0m\u001b[1;33m,\u001b[0m \u001b[0mimg\u001b[0m\u001b[1;33m)\u001b[0m\u001b[1;33m\u001b[0m\u001b[0m\n\u001b[0m\u001b[1;32m     12\u001b[0m \u001b[1;33m\u001b[0m\u001b[0m\n\u001b[1;32m     13\u001b[0m     \u001b[0mprint\u001b[0m\u001b[1;33m(\u001b[0m\u001b[1;34m'  * DONE!!'\u001b[0m\u001b[1;33m)\u001b[0m\u001b[1;33m\u001b[0m\u001b[0m\n",
      "\u001b[0;31mKeyboardInterrupt\u001b[0m: "
     ]
    }
   ],
   "source": [
    "if __name__ == '__main__':\n",
    "    files = glob(os.path.join(IN_FILE_DIR, '*.jpg'))\n",
    "    print('  * Starting Data Augmentation ...')\n",
    "    for file in files:\n",
    "        img_origin = cv2.imread(file)\n",
    "        imgs = augmentation(img_origin)\n",
    "        \n",
    "        filename = file.split('\\\\')[-1]\n",
    "        filename = filename.split('.')[0]\n",
    "        for i, img in enumerate(imgs):\n",
    "            cv2.imwrite(os.path.join(OUT_FILE_DIR, filename + '_{}.jpg'.format(i)), img)\n",
    "        \n",
    "    print('  * DONE!!')"
   ]
  }
 ],
 "metadata": {
  "anaconda-cloud": {},
  "kernelspec": {
   "display_name": "Python [tensorflow-gpu]",
   "language": "python",
   "name": "Python [tensorflow-gpu]"
  },
  "language_info": {
   "codemirror_mode": {
    "name": "ipython",
    "version": 3
   },
   "file_extension": ".py",
   "mimetype": "text/x-python",
   "name": "python",
   "nbconvert_exporter": "python",
   "pygments_lexer": "ipython3",
   "version": "3.5.2"
  }
 },
 "nbformat": 4,
 "nbformat_minor": 2
}
