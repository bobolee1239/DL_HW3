{
 "cells": [
  {
   "cell_type": "code",
   "execution_count": 1,
   "metadata": {
    "collapsed": true
   },
   "outputs": [],
   "source": [
    "#!/usr/bin/env python3"
   ]
  },
  {
   "cell_type": "code",
   "execution_count": 3,
   "metadata": {
    "collapsed": true
   },
   "outputs": [],
   "source": [
    "%matplotlib inline\n",
    "import numpy as np \n",
    "import time \n",
    "from datetime import timedelta\n",
    "import tensorflow as tf\n",
    "from readImages import *\n",
    "from build_tensorflow_graph import *\n",
    "import matplotlib.pyplot as plt"
   ]
  },
  {
   "cell_type": "code",
   "execution_count": null,
   "metadata": {
    "collapsed": true
   },
   "outputs": [],
   "source": [
    "firDir = '../data/'"
   ]
  },
  {
   "cell_type": "code",
   "execution_count": 2,
   "metadata": {
    "collapsed": false
   },
   "outputs": [
    {
     "ename": "NameError",
     "evalue": "name 'CNN_Architecture' is not defined",
     "output_type": "error",
     "traceback": [
      "\u001b[0;31m---------------------------------------------------------------------------\u001b[0m",
      "\u001b[0;31mNameError\u001b[0m                                 Traceback (most recent call last)",
      "\u001b[0;32m<ipython-input-2-d1417f985c5e>\u001b[0m in \u001b[0;36m<module>\u001b[0;34m()\u001b[0m\n\u001b[1;32m      5\u001b[0m \u001b[1;31m# Convolution Layer 1\u001b[0m\u001b[1;33m\u001b[0m\u001b[1;33m\u001b[0m\u001b[0m\n\u001b[1;32m      6\u001b[0m \u001b[0mnumFilters1\u001b[0m \u001b[1;33m=\u001b[0m \u001b[1;36m32\u001b[0m\u001b[1;33m\u001b[0m\u001b[0m\n\u001b[0;32m----> 7\u001b[0;31m cnnArchitecture1 = CNN_Architecture(numFilters = numFilters1, \n\u001b[0m\u001b[1;32m      8\u001b[0m                                     \u001b[0mfilterSize\u001b[0m \u001b[1;33m=\u001b[0m \u001b[1;33m(\u001b[0m\u001b[1;36m4\u001b[0m\u001b[1;33m,\u001b[0m \u001b[1;36m4\u001b[0m\u001b[1;33m)\u001b[0m\u001b[1;33m,\u001b[0m\u001b[1;33m\u001b[0m\u001b[0m\n\u001b[1;32m      9\u001b[0m                                     \u001b[0mstrides\u001b[0m \u001b[1;33m=\u001b[0m \u001b[1;36m1\u001b[0m\u001b[1;33m,\u001b[0m\u001b[1;33m\u001b[0m\u001b[0m\n",
      "\u001b[0;31mNameError\u001b[0m: name 'CNN_Architecture' is not defined"
     ]
    }
   ],
   "source": [
    "#\n",
    "## ---------- DCGAN Architecture ----------\n",
    "#\n",
    "\n",
    "# Convolution Layer 1\n",
    "numFilters1 = 32\n",
    "cnnArchitecture1 = CNN_Architecture(numFilters = numFilters1, \n",
    "                                    filterSize = (4, 4), \n",
    "                                    strides = 1, \n",
    "                                    toPadding = True, \n",
    "                                    useReLU = True, \n",
    "                                    numInputChannels = 3, \n",
    "                                    maxPoolingSize=(2, 2))\n",
    "dcnnArchitecture1 = cnnArchitecture1\n",
    "dcnnArchitecture1.useReLU = False\n",
    "# Convolution Layer 2\n",
    "numFilters2 = 64\n",
    "cnnArchitecture2 = CNN_Architecture(numFilters = numFilters2, \n",
    "                                    filterSize = (3, 3), \n",
    "                                    strides = 1, \n",
    "                                    toPadding = True, \n",
    "                                    useReLU = True, \n",
    "                                    numInputChannels = numFilters1, \n",
    "                                    maxPoolingSize=(2, 2))\n",
    "dcnnArchitecture2 = cnnArchitecture2\n",
    "# Convolution Layer 3\n",
    "numFilters3 = 128\n",
    "cnnArchitecture3 = CNN_Architecture(numFilters = numFilters3,\n",
    "                                    filterSize = (3, 3), \n",
    "                                    strides = 1, \n",
    "                                    toPadding = True, \n",
    "                                    useReLU = True, \n",
    "                                    numInputChannels = numFilters2, \n",
    "                                    maxPoolingSize=(2, 2))\n",
    "dcnnArchitecture3 = cnnArchitecture3\n",
    "\n",
    "# Convolution Layer 4\n",
    "numFilters4 = 256\n",
    "cnnArchitecture3 = CNN_Architecture(numFilters = numFilters3,\n",
    "                                    filterSize = (3, 3), \n",
    "                                    strides = 1, \n",
    "                                    toPadding = True, \n",
    "                                    useReLU = True, \n",
    "                                    numInputChannels = numFilters2, \n",
    "                                    maxPoolingSize=(2, 2))\n",
    "dcnnArchitecture4 = cnnArchitecture4\n",
    "\n",
    "# Fully Connected 1\n",
    "fc5_size = 1024 \n",
    "\n",
    "# Lattern Code \n",
    "z_dim = 256\n",
    "\n",
    "# flattern size\n",
    "flat_size = 4096"
   ]
  },
  {
   "cell_type": "code",
   "execution_count": null,
   "metadata": {
    "collapsed": true
   },
   "outputs": [],
   "source": [
    "class Image:\n",
    "    size = 64\n",
    "    channels = 3"
   ]
  },
  {
   "cell_type": "markdown",
   "metadata": {},
   "source": [
    "<div>\n",
    "<h1>Network Output Size</h1>\n",
    "    <p>\n",
    "    <ul>\n",
    "        <li>Input Layer: 64 * 64 * 3 = 12288</li>\n",
    "        <li>Convolutional Layer1: 32 * 32 * 32 = 32768 </li>\n",
    "        <li>Convolutional Layer2: 16 * 16 * 64 = 16384 </li>\n",
    "        <li>Convolutional Layer3: 8 * 8 * 128 = 8192 </li>\n",
    "        <li>Convolutional Layer4: 4 * 4 * 256 = 4096 </li>\n",
    "        <li>Fully Connected Layer5: 1024 </li>\n",
    "        <li>Latten Code: 256 </li>\n",
    "    </ul>\n",
    "    </p>\n",
    "</div>\n"
   ]
  },
  {
   "cell_type": "code",
   "execution_count": 1,
   "metadata": {
    "collapsed": true
   },
   "outputs": [],
   "source": [
    "class DCGAN:\n",
    "    \"\"\"\n",
    "    \"\"\"\n",
    "    def __init__(self, batch_size, lr=1e-3):\n",
    "        self.lr = lr\n",
    "        self.batch_size = batch_size\n",
    "        self.sess = tf.Session()\n",
    "        \n",
    "        self.build_model()\n",
    "        \n",
    "    def build_model(self):\n",
    "        # _0. placeholder\n",
    "        self.lattenCode = tf.placeholder(tf.float32, shape = [None, z_dim])\n",
    "        self.inputImages = tf.placeholder(tf.float32, shape = [None, Image.size, Image.size, Image.channels])\n",
    "        \n",
    "        # _1. generator\n",
    "        self.generatedImgs = self.build_generator(self.lattenCode, is_training = True, bs = self.batch_size, \n",
    "                                                  reuse = False, init_stdev = 0.01)\n",
    "        \n",
    "        # _2. Discriminator\n",
    "        self.discriminate_true = self.build_discriminator(self.inputImages, is_training = True, \n",
    "                                                          reuse = False, init_stdev = 0.01)\n",
    "        self.dicriminate_fake = self.build_discriminator(self.generateImgs, is_training = True, \n",
    "                                                         reuse = True, init_stdev = 0.01)\n",
    "        # _3. Cost Function & Optimizer\n",
    "        # ===== Discriminator loss =====\n",
    "        discriminator_true_loss = tf.log()\n",
    "        discriminator_reward = tf.log()\n",
    "        discriminator_loss = -1.0 * discriminator_reward\n",
    "        \n",
    "        # ===== Generator Loss =====\n",
    "        \n",
    "        \n",
    "    def build_test_model(self):\n",
    "        raise NotImplementedError\n",
    "        # _4. testing model\n",
    "            \n",
    "    def build_discriminator(self, inputLayer, is_training = True, reuse = False, init_stdev = 0.01):\n",
    "        \"\"\"\n",
    "        Arg:\n",
    "        -------------------------------------------------------------------------\n",
    "          * inputLayer [tensor] shape = (batch, height, width, channel).\n",
    "          \n",
    "        \"\"\"\n",
    "        with tf.variable_scope(\"discriminator\", reuse = reuse):\n",
    "            # Convolutional Layers\n",
    "            conv1, _ = new_convLayer(inputLayer, cnnArchitecture1, name = \"dis_conv1\", stdev = init_stdev)\n",
    "            conv2, _ = new_convLayer(conv1, cnnArchitecture2, name = \"dis_conv2\", stdev = init_stdev)\n",
    "            conv2 = bn(conv2, is_training = is_training, scope = \"dis_bn2\")\n",
    "            conv3, _ = new_convLayer(conv2, cnnArchitecture3, name = \"dis_conv3\", stdev = init_stdev)\n",
    "            conv3 = bn(conv3, is_training = is_training, scope = \"dis_bn3\")\n",
    "            conv4, _ = new_convLayer(conv3, cnnArchitecture4, name = \"dis_conv4\", stdev = init_stdev)\n",
    "            conv4 = bn(conv4, is_training = is_training, scope = \"dis_bn4\")\n",
    "            \n",
    "            # Flattern\n",
    "            flat, numNodes = flattenLayer(conv4)\n",
    "            assert numNodes == flat_size, \"Something wrong while flatterning ...\"\n",
    "            \n",
    "            # Fully Connected Layers\n",
    "            fc5 = new_fcLayer(flat, numNodes, fc5_size, useReLU=True, name=\"dis_fc5\", stdev=init_stdev)\n",
    "            fc5 = bn(fc5, is_training = is_training, scope = \"dis_bn5\")\n",
    "            output = new_fcLayer(fc5, fc5_size, 1, useReLU=False, name=\"dis_out\", stdev=init_stdev)\n",
    "            output = tf.nn.sigmoid(output)\n",
    "            \n",
    "            return output\n",
    "            \n",
    "    \n",
    "    def build_generator(self, inputLayer, is_training = True, bs = None, reuse = False, init_stdev = 0.01):\n",
    "        if bs is None:\n",
    "            bs = self.batch_size\n",
    "            \n",
    "        with tf.variable_scope(\"generator\", reuse = reuse):\n",
    "            # de fully connected layers\n",
    "            fc1 = new_fcLayer(inputLayer, z_dim, fc5_size, useReLU=True, name=\"gen_fc1\", stdev=init_stdev)\n",
    "            fc1 = bn(fc1, is_training = is_training, scope = \"gen_bn1\")\n",
    "            fc2 = new_fcLayer(fc1, fc5_size, flat_size, useReLU=True, name=\"gen_dconv2\", stdev=init_stdev)\n",
    "            fc2 = bn(fc2, is_training = is_training, scope = \"gen_bn2\")\n",
    "            \n",
    "            # Reshaping\n",
    "            conv2 = tf.reshape(fc2, shape=[-1, 4, 4, numFilters4])\n",
    "            \n",
    "            # Convolutional Layers\n",
    "            conv2 = unpool(conv2, kernel=(2, 2))\n",
    "            conv3 = new_dconvLayer(conv2, dcnnArchitecture4, outputShape = [bs, 8, 8, 128], \n",
    "                                   name = \"gen_dconv3\", stdev = init_stdev)\n",
    "            conv3 = bn(conv3, is_training = is_training, scope = \"gen_bn3\")\n",
    "            \n",
    "            conv3 = unpool(conv3, kernel=(2, 2))\n",
    "            conv4 = new_dconvLayer(conv3, dcnnArchitecture3, outputShape = [bs, 16, 16, 64], \n",
    "                                   name = \"gen_dconv4\", stdev = init_stdev)\n",
    "            conv4 = bn(conv4, is_training = is_training, scope = \"gen_bn4\")\n",
    "            \n",
    "            conv4 = unpool(conv4, kernel=(2, 2))\n",
    "            conv5 = new_dconvLayer(conv4, dcnnArchitecture2, outputShape = [bs, 32, 32, 32], \n",
    "                                   name = \"gen_dconv5\", stdev = init_stdev)\n",
    "            conv5 = bn(conv5, is_training = is_training, scope = \"gen_bn5\")\n",
    "            \n",
    "            conv5 = unpool(conv5, kernel=(2, 2))\n",
    "            image = new_dconvLayer(conv5, dcnnArchitecture1, outputShape = [bs, Image.size, Image.size, Image.channels], \n",
    "                                   name = \"gen_image\", stdev = init_stdev)\n",
    "            image = tf.nn.sigmoid(image)\n",
    "            \n",
    "            return image\n",
    "            \n",
    "            \n",
    "    def train(self, fileDir):\n",
    "        raise NotImplementedError\n",
    "        \n",
    "    def save(self, path):\n",
    "        raise NotImplementedError\n",
    "        \n",
    "    def load(self, path):\n",
    "        raise NotImplementedError\n",
    "        \n",
    "    def generateFakeImages(self, numImgs):\n",
    "        raise NotImplementedError\n",
    "        "
   ]
  },
  {
   "cell_type": "code",
   "execution_count": null,
   "metadata": {
    "collapsed": true
   },
   "outputs": [],
   "source": [
    "if __name__ == '__main__':\n",
    "    batch_size = 128\n",
    "    dc_gan = DCGAN(batch_size = batch_size)"
   ]
  }
 ],
 "metadata": {
  "kernelspec": {
   "display_name": "Python [tensorflow-gpu]",
   "language": "python",
   "name": "Python [tensorflow-gpu]"
  },
  "language_info": {
   "codemirror_mode": {
    "name": "ipython",
    "version": 3
   },
   "file_extension": ".py",
   "mimetype": "text/x-python",
   "name": "python",
   "nbconvert_exporter": "python",
   "pygments_lexer": "ipython3",
   "version": "3.5.2"
  }
 },
 "nbformat": 4,
 "nbformat_minor": 2
}
