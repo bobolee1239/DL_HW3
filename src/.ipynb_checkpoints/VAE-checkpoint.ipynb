{
 "cells": [
  {
   "cell_type": "code",
   "execution_count": null,
   "metadata": {},
   "outputs": [],
   "source": [
    "#!/usr/bin/env python3"
   ]
  },
  {
   "cell_type": "code",
   "execution_count": 2,
   "metadata": {},
   "outputs": [],
   "source": [
    "import numpy as np \n",
    "import time \n",
    "from datetime import timedelta\n",
    "import tensorflow as tf\n",
    "from readImages import *\n",
    "from build_tensorflow_graph import *"
   ]
  },
  {
   "cell_type": "code",
   "execution_count": 3,
   "metadata": {},
   "outputs": [],
   "source": [
    "#\n",
    "## ---------- VAE Architecture ----------\n",
    "#\n",
    "\n",
    "# Convolution Layer 1\n",
    "numFilters1 = 64\n",
    "conv1 = CNN_Architecture(numFilters = numFilters1, \n",
    "                         filterSize = (3, 3), \n",
    "                         strides = 1, \n",
    "                         toPadding = True, \n",
    "                         useReLU = True, \n",
    "                         numInputChannels = 3, \n",
    "                         maxPoolingSize=(2, 2))\n",
    "# Convolution Layer 2\n",
    "numFilters2 = 128\n",
    "conv1 = CNN_Architecture(numFilters = , numFilters2\n",
    "                         filterSize = (3, 3), \n",
    "                         strides = 1, \n",
    "                         toPadding = True, \n",
    "                         useReLU = True, \n",
    "                         numInputChannels = numFilters1, \n",
    "                         maxPoolingSize=(2, 2))\n",
    "# Convolution Layer 3\n",
    "numFilters2 = 128\n",
    "conv1 = CNN_Architecture(numFilters = , numFilters3\n",
    "                         filterSize = (3, 3), \n",
    "                         strides = 1, \n",
    "                         toPadding = True, \n",
    "                         useReLU = True, \n",
    "                         numInputChannels = numFilters2, \n",
    "                         maxPoolingSize=(2, 2))\n",
    "# Fully Connected 1\n",
    "fc1_size = 2048\n",
    "# Fully Connected 2\n",
    "fc2_size = 512\n",
    "# Lattern Code \n",
    "z_dim = 32"
   ]
  },
  {
   "cell_type": "code",
   "execution_count": 4,
   "metadata": {},
   "outputs": [],
   "source": [
    "#  \n",
    "#    input layer: 64 * 64 * 3 = 12288\n",
    "#    conv1 layer: 32 * 32 * 64 = 65536\n",
    "#    conv2 layer: 16 * 16 * 128 = 32768\n",
    "#    conv3 layer: 8 * 8 * 128 = 8192\n",
    "#    fc1_size = 2048\n",
    "#    fc2_size = 512\n",
    "#    z_dim = 32"
   ]
  },
  {
   "cell_type": "code",
   "execution_count": null,
   "metadata": {},
   "outputs": [],
   "source": [
    "class VAE:\n",
    "    def __init__(self):\n",
    "        raise NotImplementedError\n",
    "    def encoder(self):\n",
    "        raise NotImplementedError\n",
    "    def decoder(self):\n",
    "        raise NotImplementedError\n",
    "    def buildModel(self):\n",
    "        raise NotImplementedError\n",
    "    def train(self):\n",
    "        raise NotImplementedError\n",
    "    def generateFakeImages(self):\n",
    "        raise NotImplementedError\n",
    "    "
   ]
  }
 ],
 "metadata": {
  "kernelspec": {
   "display_name": "Python 3",
   "language": "python",
   "name": "python3"
  },
  "language_info": {
   "codemirror_mode": {
    "name": "ipython",
    "version": 3
   },
   "file_extension": ".py",
   "mimetype": "text/x-python",
   "name": "python",
   "nbconvert_exporter": "python",
   "pygments_lexer": "ipython3",
   "version": "3.5.2"
  }
 },
 "nbformat": 4,
 "nbformat_minor": 2
}
